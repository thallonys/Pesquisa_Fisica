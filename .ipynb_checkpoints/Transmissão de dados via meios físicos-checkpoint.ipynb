{
 "cells": [
  {
   "cell_type": "markdown",
   "id": "7afac386",
   "metadata": {},
   "source": [
    "<h1>Transmissão de dados via meios físicos</h1>\n",
    "\n",
    "Há vários tipos de meios de transmissão de dados. Elas são:\n",
    "\n",
    "<ul>\n",
    "Cabo:\n",
    "    <li>Cabo coaxial</li>\n",
    "    <li>Par trançado</li>\n",
    "    <li>Fibra Óptica</li>\n",
    "</ul>\n",
    "    \n",
    "<ul>\n",
    "Sem fio:\n",
    "    <li>1G, 2G, 3G, 4G, 5G</li>\n",
    "    <li>Rádio</li>\n",
    "    <li>Bluetooth</li>\n",
    "    <li>WI-FI</li>\n",
    "    <li>Infravermelho</li>\n",
    "</ul>"
   ]
  },
  {
   "cell_type": "code",
   "execution_count": null,
   "id": "040b9742",
   "metadata": {},
   "outputs": [],
   "source": []
  }
 ],
 "metadata": {
  "kernelspec": {
   "display_name": "Python 3 (ipykernel)",
   "language": "python",
   "name": "python3"
  },
  "language_info": {
   "codemirror_mode": {
    "name": "ipython",
    "version": 3
   },
   "file_extension": ".py",
   "mimetype": "text/x-python",
   "name": "python",
   "nbconvert_exporter": "python",
   "pygments_lexer": "ipython3",
   "version": "3.9.13"
  }
 },
 "nbformat": 4,
 "nbformat_minor": 5
}
